{
 "cells": [
  {
   "cell_type": "markdown",
   "metadata": {},
   "source": [
    "# ENPM673 Project 2"
   ]
  },
  {
   "cell_type": "markdown",
   "metadata": {},
   "source": [
    "#### Part1"
   ]
  },
  {
   "cell_type": "code",
   "execution_count": 7,
   "metadata": {},
   "outputs": [
    {
     "name": "stdout",
     "output_type": "stream",
     "text": [
      "29.0 Frames per second\n"
     ]
    }
   ],
   "source": [
    "#importing modules\n",
    "from ast import Pass\n",
    "import cv2\n",
    "import numpy as np\n",
    "import os\n",
    "from matplotlib import pyplot as plt\n",
    "\n",
    "# Creating a VideoCapture object and reading from input file\n",
    "cap = cv2.VideoCapture('proj2_v2.mp4')\n",
    "#capturing the fps of the video\n",
    "fps = cap.get(cv2.CAP_PROP_FPS)\n",
    "\n",
    "#creating frame counter\n",
    "frame_counter=0\n",
    "print(f\"{fps} Frames per second\")\n",
    "\n",
    "# Checking if camera opened successfully\n",
    "if (cap.isOpened()== False):\n",
    "  print(\"Error opening video stream or file\")\n",
    "\n",
    "# Reading until video is completed\n",
    "while(cap.isOpened()):\n",
    "  # Captureing frame-by-frame\n",
    "  ret, frame = cap.read()\n",
    "  if ret == True:\n",
    "    #incrementing frame counter\n",
    "    \n",
    "    #Converting BGR to Graysclae to reduce the channel of colors\n",
    "    image=cv2.cvtColor(frame,cv2.COLOR_BGR2GRAY)\n",
    "    \n",
    "    #Variance of Laplacian\n",
    "    # laplcian=cv2.Laplacian(gblur,cv2.CV_64F)\n",
    "    laplacian_var=cv2.Laplacian(image,cv2.CV_64F).var()\n",
    "    #updating variable text based on the threshold of variance of laplacian\n",
    "    if laplacian_var>150:\n",
    "        # text=\"not blurry\"\n",
    "        # frame_counter+=1\n",
    "        #putting text on the frame\n",
    "        # cv2.putText(frame, \"{}: {:.2f}\".format(text, laplacian_var), (10, 30), cv2.FONT_HERSHEY_SIMPLEX, 0.8, (0, 0, 255), 3)\n",
    "        #Smoothing the frames to eliminate the noise from the video frames\n",
    "        # gblur = cv2.GaussianBlur(image, (15, 15), 0)\n",
    "        #Binary thresolding a grayscale frame to capture the moving dark object\n",
    "        ret,thres=cv2.threshold(image,205,255,cv2.THRESH_BINARY)\n",
    "        thres_lower = 500 # Lower Threshold \n",
    "        thres_upper = 1520 # Upper threshold \n",
    "        \n",
    "        # Applying the Canny Edge filter with L2Gradient = True \n",
    "        edge = cv2.Canny(thres, thres_lower, thres_upper) \n",
    "        lines = cv2.HoughLinesP(\n",
    "            edge, # Input edge image\n",
    "            1, # Distance resolution in pixels\n",
    "            np.pi/180, # Angle resolution in radians\n",
    "            threshold=70, # Min number of votes for valid line\n",
    "            minLineLength=80, # Min allowed length of line\n",
    "            maxLineGap=10 # Max allowed gap between line for joining them\n",
    "            )\n",
    "        # Iterate over points\n",
    "        for points in lines:\n",
    "              # Extracted points nested in the list\n",
    "            x1,y1,x2,y2=points[0]\n",
    "            # Draw the lines joing the points\n",
    "            # On the original image\n",
    "            cv2.line(frame,(x1,y1),(x2,y2),(0,255,0),4)\n",
    "        cv2.imshow('Frame',frame)\n",
    "    # print(laplacian_var)\n",
    "    # Press Q on keyboard to  exit\n",
    "    if cv2.waitKey(25) & 0xFF == ord('q'):\n",
    "      break\n",
    "\n",
    "  # Break the loop\n",
    "  else:\n",
    "    break\n",
    "\n",
    "cap.release()\n",
    "cv2.destroyAllWindows()\n",
    "\n"
   ]
  },
  {
   "cell_type": "code",
   "execution_count": null,
   "metadata": {},
   "outputs": [],
   "source": []
  }
 ],
 "metadata": {
  "kernelspec": {
   "display_name": ".enpm673",
   "language": "python",
   "name": "python3"
  },
  "language_info": {
   "codemirror_mode": {
    "name": "ipython",
    "version": 3
   },
   "file_extension": ".py",
   "mimetype": "text/x-python",
   "name": "python",
   "nbconvert_exporter": "python",
   "pygments_lexer": "ipython3",
   "version": "3.12.2"
  }
 },
 "nbformat": 4,
 "nbformat_minor": 2
}
